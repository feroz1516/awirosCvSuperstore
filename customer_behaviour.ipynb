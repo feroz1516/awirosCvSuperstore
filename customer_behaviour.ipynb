{
 "cells": [
  {
   "cell_type": "code",
   "execution_count": 2,
   "metadata": {},
   "outputs": [
    {
     "name": "stderr",
     "output_type": "stream",
     "text": [
      "C:\\Users\\hp\\AppData\\Roaming\\Python\\Python310\\site-packages\\tqdm\\auto.py:22: TqdmWarning: IProgress not found. Please update jupyter and ipywidgets. See https://ipywidgets.readthedocs.io/en/stable/user_install.html\n",
      "  from .autonotebook import tqdm as notebook_tqdm\n"
     ]
    }
   ],
   "source": [
    "from ultralytics import YOLO\n",
    "\n",
    "model = YOLO('models/humandetect.pt')\n",
    "\n"
   ]
  },
  {
   "cell_type": "code",
   "execution_count": 3,
   "metadata": {},
   "outputs": [
    {
     "name": "stderr",
     "output_type": "stream",
     "text": [
      "\n",
      "0: 384x640 6 persons, 1108.9ms\n",
      "Speed: 17.0ms preprocess, 1108.9ms inference, 1.0ms postprocess per image at shape (1, 3, 384, 640)\n",
      "WARNING  'Boxes.boxes' is deprecated. Use 'Boxes.data' instead.\n"
     ]
    },
    {
     "name": "stdout",
     "output_type": "stream",
     "text": [
      "ultralytics.engine.results.Boxes object with attributes:\n",
      "\n",
      "boxes: tensor([[7.3758e+02, 4.0687e+02, 8.7322e+02, 7.1927e+02, 1.0000e+00, 9.5430e-01, 0.0000e+00],\n",
      "        [3.2845e+02, 2.9375e+02, 4.0067e+02, 4.3030e+02, 2.0000e+00, 9.2681e-01, 0.0000e+00],\n",
      "        [2.0158e+02, 3.8254e+02, 3.5772e+02, 6.0460e+02, 3.0000e+00, 9.1166e-01, 0.0000e+00],\n",
      "        [4.4681e+02, 1.7481e+02, 5.1897e+02, 2.7507e+02, 4.0000e+00, 9.0665e-01, 0.0000e+00],\n",
      "        [6.5457e+02, 1.1044e+02, 7.1380e+02, 2.6963e+02, 5.0000e+00, 8.9550e-01, 0.0000e+00],\n",
      "        [6.2163e+02, 5.1240e+02, 7.5901e+02, 7.1970e+02, 6.0000e+00, 8.7119e-01, 0.0000e+00]])\n",
      "cls: tensor([0., 0., 0., 0., 0., 0.])\n",
      "conf: tensor([0.9543, 0.9268, 0.9117, 0.9067, 0.8955, 0.8712])\n",
      "data: tensor([[7.3758e+02, 4.0687e+02, 8.7322e+02, 7.1927e+02, 1.0000e+00, 9.5430e-01, 0.0000e+00],\n",
      "        [3.2845e+02, 2.9375e+02, 4.0067e+02, 4.3030e+02, 2.0000e+00, 9.2681e-01, 0.0000e+00],\n",
      "        [2.0158e+02, 3.8254e+02, 3.5772e+02, 6.0460e+02, 3.0000e+00, 9.1166e-01, 0.0000e+00],\n",
      "        [4.4681e+02, 1.7481e+02, 5.1897e+02, 2.7507e+02, 4.0000e+00, 9.0665e-01, 0.0000e+00],\n",
      "        [6.5457e+02, 1.1044e+02, 7.1380e+02, 2.6963e+02, 5.0000e+00, 8.9550e-01, 0.0000e+00],\n",
      "        [6.2163e+02, 5.1240e+02, 7.5901e+02, 7.1970e+02, 6.0000e+00, 8.7119e-01, 0.0000e+00]])\n",
      "id: tensor([1., 2., 3., 4., 5., 6.])\n",
      "is_track: True\n",
      "orig_shape: (720, 1278)\n",
      "shape: torch.Size([6, 7])\n",
      "xywh: tensor([[805.3998, 563.0714, 135.6395, 312.3935],\n",
      "        [364.5602, 362.0283,  72.2253, 136.5518],\n",
      "        [279.6474, 493.5711, 156.1397, 222.0544],\n",
      "        [482.8918, 224.9401,  72.1611, 100.2607],\n",
      "        [684.1816, 190.0335,  59.2327, 159.1837],\n",
      "        [690.3235, 616.0533, 137.3804, 207.2999]])\n",
      "xywhn: tensor([[0.6302, 0.7820, 0.1061, 0.4339],\n",
      "        [0.2853, 0.5028, 0.0565, 0.1897],\n",
      "        [0.2188, 0.6855, 0.1222, 0.3084],\n",
      "        [0.3778, 0.3124, 0.0565, 0.1393],\n",
      "        [0.5354, 0.2639, 0.0463, 0.2211],\n",
      "        [0.5402, 0.8556, 0.1075, 0.2879]])\n",
      "xyxy: tensor([[737.5801, 406.8747, 873.2196, 719.2682],\n",
      "        [328.4475, 293.7524, 400.6729, 430.3042],\n",
      "        [201.5776, 382.5439, 357.7173, 604.5983],\n",
      "        [446.8112, 174.8098, 518.9723, 275.0705],\n",
      "        [654.5653, 110.4417, 713.7980, 269.6253],\n",
      "        [621.6333, 512.4033, 759.0137, 719.7032]])\n",
      "xyxyn: tensor([[0.5771, 0.5651, 0.6833, 0.9990],\n",
      "        [0.2570, 0.4080, 0.3135, 0.5976],\n",
      "        [0.1577, 0.5313, 0.2799, 0.8397],\n",
      "        [0.3496, 0.2428, 0.4061, 0.3820],\n",
      "        [0.5122, 0.1534, 0.5585, 0.3745],\n",
      "        [0.4864, 0.7117, 0.5939, 0.9996]])\n"
     ]
    }
   ],
   "source": [
    "import cv2\n",
    "cap = cv2.VideoCapture(r\"D:\\PROJECTS\\AWIROS-CV_SUPERSTORE\\sample_video\\supermarket.mp4\")\n",
    "image = cv2.imread('supermarket_Moment2.jpg')\n",
    "_,frame = cap.read()\n",
    "results = model.track(frame,conf=0.4,iou=0.5)\n",
    "for result in results:\n",
    "    boxes = result.boxes\n",
    "print(boxes)"
   ]
  },
  {
   "cell_type": "code",
   "execution_count": 17,
   "metadata": {},
   "outputs": [
    {
     "name": "stdout",
     "output_type": "stream",
     "text": [
      "Height: 720\n",
      "Width: 1278\n"
     ]
    }
   ],
   "source": [
    "import cv2\n",
    "\n",
    "# Load the image\n",
    "image = cv2.imread('store_sample.png')  # Replace 'your_image.jpg' with the path to your image file\n",
    "\n",
    "# Get the height and width of the image\n",
    "height, width, channels = image.shape\n",
    "\n",
    "# Print the height and width\n",
    "print(\"Height:\", height)\n",
    "print(\"Width:\", width)\n"
   ]
  },
  {
   "cell_type": "code",
   "execution_count": 28,
   "metadata": {},
   "outputs": [
    {
     "name": "stdout",
     "output_type": "stream",
     "text": [
      "The person is not inside the area.\n"
     ]
    }
   ],
   "source": [
    "# Define the area as a list of points [x1, y1, x2, y2, ..., x5, y5]\n",
    "# area = [4, 271, 244, 155, 541, 212, 318, 716, 0, 719]\n",
    "area = [541, 212,858,201,1228,717,318, 716]\n",
    "# Define the bounding box coordinates in the format [x, y, width, height]\n",
    "person_bbox =  [768.3163, 551.7424, 110.4539, 336.5151]\n",
    "\n",
    "# Calculate the coordinates of the four corners of the bounding box\n",
    "x1, y1 = person_bbox[0], person_bbox[1]\n",
    "x2, y2 = x1 + person_bbox[2], y1\n",
    "x3, y3 = x1, y1 + person_bbox[3]\n",
    "x4, y4 = x2, y3\n",
    "\n",
    "# Check if all four corners are inside the area\n",
    "if all(\n",
    "    [x1 >= min(area[0::2]) and x1 <= max(area[0::2]),\n",
    "     y1 >= min(area[1::2]) and y1 <= max(area[1::2]),\n",
    "     x2 >= min(area[0::2]) and x2 <= max(area[0::2]),\n",
    "     y2 >= min(area[1::2]) and y2 <= max(area[1::2]),\n",
    "     x3 >= min(area[0::2]) and x3 <= max(area[0::2]),\n",
    "     y3 >= min(area[1::2]) and y3 <= max(area[1::2]),\n",
    "     x4 >= min(area[0::2]) and x4 <= max(area[0::2]),\n",
    "     y4 >= min(area[1::2]) and y4 <= max(area[1::2])]\n",
    "):\n",
    "    print(\"The person is inside the area.\")\n",
    "else:\n",
    "    print(\"The person is not inside the area.\")\n"
   ]
  },
  {
   "cell_type": "code",
   "execution_count": 29,
   "metadata": {},
   "outputs": [
    {
     "name": "stdout",
     "output_type": "stream",
     "text": [
      "The person is outside the defined area.\n"
     ]
    }
   ],
   "source": [
    "# Define the area as a list of points [x1, y1, x2, y2, ..., x4, y4]\n",
    "area = [541, 212, 858, 201, 1228, 717, 318, 716]\n",
    "\n",
    "# Define the person's bounding box as [x, y, width, height]\n",
    "person_bbox = [686.4162, 614.7559, 137.4637, 208.8882]\n",
    "\n",
    "# Define the height and width of the image\n",
    "image_height = 720\n",
    "image_width = 1278\n",
    "\n",
    "# Extract the x, y, width, and height of the person's bounding box\n",
    "x, y, width, height = person_bbox\n",
    "\n",
    "# Calculate the coordinates of the four corners of the person's bounding box\n",
    "x1 = x\n",
    "y1 = y\n",
    "x2 = x + width\n",
    "y2 = y\n",
    "x3 = x + width\n",
    "y3 = y + height\n",
    "x4 = x\n",
    "y4 = y + height\n",
    "\n",
    "# Check if all four corners of the bounding box are inside the area\n",
    "if (area[0] <= x1 <= area[2] and area[1] <= y1 <= area[3] and\n",
    "    area[0] <= x2 <= area[2] and area[1] <= y2 <= area[3] and\n",
    "    area[0] <= x3 <= area[2] and area[1] <= y3 <= area[3] and\n",
    "    area[0] <= x4 <= area[2] and area[1] <= y4 <= area[3]):\n",
    "\n",
    "    print(\"The person is inside the defined area.\")\n",
    "else:\n",
    "    print(\"The person is outside the defined area.\")\n"
   ]
  },
  {
   "cell_type": "code",
   "execution_count": 31,
   "metadata": {},
   "outputs": [
    {
     "ename": "IndexError",
     "evalue": "list index out of range",
     "output_type": "error",
     "traceback": [
      "\u001b[1;31m---------------------------------------------------------------------------\u001b[0m",
      "\u001b[1;31mIndexError\u001b[0m                                Traceback (most recent call last)",
      "\u001b[1;32md:\\PROJECTS\\AWIROS-CV_SUPERSTORE\\customer_behaviour.ipynb Cell 6\u001b[0m line \u001b[0;36m<cell line: 61>\u001b[1;34m()\u001b[0m\n\u001b[0;32m     <a href='vscode-notebook-cell:/d%3A/PROJECTS/AWIROS-CV_SUPERSTORE/customer_behaviour.ipynb#W5sZmlsZQ%3D%3D?line=57'>58</a>\u001b[0m \u001b[39m# Remove the y coordinates from the area coordinates.\u001b[39;00m\n\u001b[0;32m     <a href='vscode-notebook-cell:/d%3A/PROJECTS/AWIROS-CV_SUPERSTORE/customer_behaviour.ipynb#W5sZmlsZQ%3D%3D?line=58'>59</a>\u001b[0m area_coords \u001b[39m=\u001b[39m area_coords[::\u001b[39m2\u001b[39m]\n\u001b[1;32m---> <a href='vscode-notebook-cell:/d%3A/PROJECTS/AWIROS-CV_SUPERSTORE/customer_behaviour.ipynb#W5sZmlsZQ%3D%3D?line=60'>61</a>\u001b[0m \u001b[39mif\u001b[39;00m is_inside_area(person_bbox, area_coords):\n\u001b[0;32m     <a href='vscode-notebook-cell:/d%3A/PROJECTS/AWIROS-CV_SUPERSTORE/customer_behaviour.ipynb#W5sZmlsZQ%3D%3D?line=61'>62</a>\u001b[0m   \u001b[39mprint\u001b[39m(\u001b[39m\"\u001b[39m\u001b[39mThe person is inside the given area.\u001b[39m\u001b[39m\"\u001b[39m)\n\u001b[0;32m     <a href='vscode-notebook-cell:/d%3A/PROJECTS/AWIROS-CV_SUPERSTORE/customer_behaviour.ipynb#W5sZmlsZQ%3D%3D?line=62'>63</a>\u001b[0m \u001b[39melse\u001b[39;00m:\n",
      "\u001b[1;32md:\\PROJECTS\\AWIROS-CV_SUPERSTORE\\customer_behaviour.ipynb Cell 6\u001b[0m line \u001b[0;36mis_inside_area\u001b[1;34m(person_bbox, area_coords)\u001b[0m\n\u001b[0;32m     <a href='vscode-notebook-cell:/d%3A/PROJECTS/AWIROS-CV_SUPERSTORE/customer_behaviour.ipynb#W5sZmlsZQ%3D%3D?line=45'>46</a>\u001b[0m person_bbox_center_x \u001b[39m=\u001b[39m (person_bbox_xmin \u001b[39m+\u001b[39m person_bbox_xmax) \u001b[39m/\u001b[39m \u001b[39m2\u001b[39m\n\u001b[0;32m     <a href='vscode-notebook-cell:/d%3A/PROJECTS/AWIROS-CV_SUPERSTORE/customer_behaviour.ipynb#W5sZmlsZQ%3D%3D?line=46'>47</a>\u001b[0m person_bbox_center_y \u001b[39m=\u001b[39m (person_bbox_ymin \u001b[39m+\u001b[39m person_bbox_ymax) \u001b[39m/\u001b[39m \u001b[39m2\u001b[39m\n\u001b[1;32m---> <a href='vscode-notebook-cell:/d%3A/PROJECTS/AWIROS-CV_SUPERSTORE/customer_behaviour.ipynb#W5sZmlsZQ%3D%3D?line=47'>48</a>\u001b[0m \u001b[39mif\u001b[39;00m ray_casting([person_bbox_center_x, person_bbox_center_y], area_coords):\n\u001b[0;32m     <a href='vscode-notebook-cell:/d%3A/PROJECTS/AWIROS-CV_SUPERSTORE/customer_behaviour.ipynb#W5sZmlsZQ%3D%3D?line=48'>49</a>\u001b[0m   \u001b[39mreturn\u001b[39;00m \u001b[39mTrue\u001b[39;00m\n\u001b[0;32m     <a href='vscode-notebook-cell:/d%3A/PROJECTS/AWIROS-CV_SUPERSTORE/customer_behaviour.ipynb#W5sZmlsZQ%3D%3D?line=50'>51</a>\u001b[0m \u001b[39mreturn\u001b[39;00m \u001b[39mFalse\u001b[39;00m\n",
      "\u001b[1;32md:\\PROJECTS\\AWIROS-CV_SUPERSTORE\\customer_behaviour.ipynb Cell 6\u001b[0m line \u001b[0;36mis_inside_area.<locals>.ray_casting\u001b[1;34m(point, polygon)\u001b[0m\n\u001b[0;32m     <a href='vscode-notebook-cell:/d%3A/PROJECTS/AWIROS-CV_SUPERSTORE/customer_behaviour.ipynb#W5sZmlsZQ%3D%3D?line=37'>38</a>\u001b[0m edge_start \u001b[39m=\u001b[39m polygon[\u001b[39m2\u001b[39m \u001b[39m*\u001b[39m i : \u001b[39m2\u001b[39m \u001b[39m*\u001b[39m (i \u001b[39m+\u001b[39m \u001b[39m1\u001b[39m)]\n\u001b[0;32m     <a href='vscode-notebook-cell:/d%3A/PROJECTS/AWIROS-CV_SUPERSTORE/customer_behaviour.ipynb#W5sZmlsZQ%3D%3D?line=38'>39</a>\u001b[0m edge_end \u001b[39m=\u001b[39m polygon[\u001b[39m2\u001b[39m \u001b[39m*\u001b[39m (i \u001b[39m+\u001b[39m \u001b[39m1\u001b[39m) : \u001b[39m2\u001b[39m \u001b[39m*\u001b[39m (i \u001b[39m+\u001b[39m \u001b[39m2\u001b[39m)]\n\u001b[1;32m---> <a href='vscode-notebook-cell:/d%3A/PROJECTS/AWIROS-CV_SUPERSTORE/customer_behaviour.ipynb#W5sZmlsZQ%3D%3D?line=39'>40</a>\u001b[0m \u001b[39mif\u001b[39;00m edge_start[\u001b[39m1\u001b[39m] \u001b[39m<\u001b[39m\u001b[39m=\u001b[39m point[\u001b[39m1\u001b[39m] \u001b[39m<\u001b[39m\u001b[39m=\u001b[39m edge_end[\u001b[39m1\u001b[39;49m] \u001b[39mor\u001b[39;00m edge_end[\u001b[39m1\u001b[39m] \u001b[39m<\u001b[39m\u001b[39m=\u001b[39m point[\u001b[39m1\u001b[39m] \u001b[39m<\u001b[39m\u001b[39m=\u001b[39m edge_start[\u001b[39m1\u001b[39m]:\n\u001b[0;32m     <a href='vscode-notebook-cell:/d%3A/PROJECTS/AWIROS-CV_SUPERSTORE/customer_behaviour.ipynb#W5sZmlsZQ%3D%3D?line=40'>41</a>\u001b[0m   \u001b[39mif\u001b[39;00m edge_start[\u001b[39m0\u001b[39m] \u001b[39m+\u001b[39m (point[\u001b[39m1\u001b[39m] \u001b[39m-\u001b[39m edge_start[\u001b[39m1\u001b[39m]) \u001b[39m*\u001b[39m (edge_end[\u001b[39m0\u001b[39m] \u001b[39m-\u001b[39m edge_start[\u001b[39m0\u001b[39m]) \u001b[39m/\u001b[39m (edge_end[\u001b[39m1\u001b[39m] \u001b[39m-\u001b[39m edge_start[\u001b[39m1\u001b[39m]) \u001b[39m<\u001b[39m\u001b[39m=\u001b[39m point[\u001b[39m0\u001b[39m]:\n\u001b[0;32m     <a href='vscode-notebook-cell:/d%3A/PROJECTS/AWIROS-CV_SUPERSTORE/customer_behaviour.ipynb#W5sZmlsZQ%3D%3D?line=41'>42</a>\u001b[0m     intersections \u001b[39m+\u001b[39m\u001b[39m=\u001b[39m \u001b[39m1\u001b[39m\n",
      "\u001b[1;31mIndexError\u001b[0m: list index out of range"
     ]
    }
   ],
   "source": [
    "import numpy as np\n",
    "\n",
    "def is_inside_area(person_bbox, area_coords):\n",
    "  \"\"\"\n",
    "  Checks whether the person bounding box is inside the given area coordinates.\n",
    "\n",
    "  Args:\n",
    "    person_bbox: A list of four floats representing the person bounding box in the format [x, y, width, height].\n",
    "    area_coords: A list of eight floats representing the area coordinates in the format [x1, y1, x2, y2, ..., x4, y4].\n",
    "\n",
    "  Returns:\n",
    "    True if the person bounding box is inside the given area coordinates, False otherwise.\n",
    "  \"\"\"\n",
    "\n",
    "  # Check if the person bounding box is within the area bounding box.\n",
    "  person_bbox_xmin, person_bbox_ymin, person_bbox_xmax, person_bbox_ymax = person_bbox\n",
    "  area_bbox_xmin, area_bbox_ymin, area_bbox_xmax, area_bbox_ymax = min(area_coords), min(area_coords[1::2]), max(area_coords), max(area_coords[1::2])\n",
    "  if person_bbox_xmin < area_bbox_xmin or person_bbox_ymin < area_bbox_ymin or person_bbox_xmax > area_bbox_xmax or person_bbox_ymax > area_bbox_ymax:\n",
    "    return False\n",
    "\n",
    "  # Check if the person bounding box is inside the area polygon.\n",
    "  # This can be done by using the Ray Casting algorithm.\n",
    "\n",
    "  def ray_casting(point, polygon):\n",
    "    \"\"\"\n",
    "    Checks whether the given point is inside the given polygon using the Ray Casting algorithm.\n",
    "\n",
    "    Args:\n",
    "      point: A list of two floats representing the point.\n",
    "      polygon: A list of eight floats representing the polygon coordinates in the format [x1, y1, x2, y2, ..., x4, y4].\n",
    "\n",
    "    Returns:\n",
    "      True if the point is inside the polygon, False otherwise.\n",
    "    \"\"\"\n",
    "\n",
    "    intersections = 0\n",
    "    for i in range(len(polygon) // 2):\n",
    "      edge_start = polygon[2 * i : 2 * (i + 1)]\n",
    "      edge_end = polygon[2 * (i + 1) : 2 * (i + 2)]\n",
    "      if edge_start[1] <= point[1] <= edge_end[1] or edge_end[1] <= point[1] <= edge_start[1]:\n",
    "        if edge_start[0] + (point[1] - edge_start[1]) * (edge_end[0] - edge_start[0]) / (edge_end[1] - edge_start[1]) <= point[0]:\n",
    "          intersections += 1\n",
    "    return intersections % 2 == 1\n",
    "\n",
    "  # Check if the center of the person bounding box is inside the area polygon.\n",
    "  person_bbox_center_x = (person_bbox_xmin + person_bbox_xmax) / 2\n",
    "  person_bbox_center_y = (person_bbox_ymin + person_bbox_ymax) / 2\n",
    "  if ray_casting([person_bbox_center_x, person_bbox_center_y], area_coords):\n",
    "    return True\n",
    "\n",
    "  return False\n",
    "\n",
    "# Example usage:\n",
    "\n",
    "person_bbox = [686.4162, 614.7559, 137.4637, 208.8882]\n",
    "area_coords = [541, 212,858,201,1228,717,318, 716]\n",
    "\n",
    "# Remove the y coordinates from the area coordinates.\n",
    "area_coords = area_coords[::2]\n",
    "\n",
    "if is_inside_area(person_bbox, area_coords):\n",
    "  print(\"The person is inside the given area.\")\n",
    "else:\n",
    "  print(\"The person is outside the given area.\")\n"
   ]
  },
  {
   "cell_type": "code",
   "execution_count": 10,
   "metadata": {},
   "outputs": [
    {
     "name": "stdout",
     "output_type": "stream",
     "text": [
      "{318: 715, 319: 713, 320: 711, 321: 709, 322: 706, 323: 704, 324: 702, 325: 700, 326: 697, 327: 695, 328: 693, 329: 691, 330: 688, 331: 686, 332: 684, 333: 681, 334: 679, 335: 677, 336: 675, 337: 672, 338: 670, 339: 668, 340: 666, 341: 663, 342: 661, 343: 659, 344: 657, 345: 654, 346: 652, 347: 650, 348: 648, 349: 645, 350: 643, 351: 641, 352: 639, 353: 636, 354: 634, 355: 632, 356: 629, 357: 627, 358: 625, 359: 623, 360: 620, 361: 618, 362: 616, 363: 614, 364: 611, 365: 609, 366: 607, 367: 605, 368: 602, 369: 600, 370: 598, 371: 596, 372: 593, 373: 591, 374: 589, 375: 587, 376: 584, 377: 582, 378: 580, 379: 578, 380: 575, 381: 573, 382: 571, 383: 568, 384: 566, 385: 564, 386: 562, 387: 559, 388: 557, 389: 555, 390: 553, 391: 550, 392: 548, 393: 546, 394: 544, 395: 541, 396: 539, 397: 537, 398: 535, 399: 532, 400: 530, 401: 528, 402: 526, 403: 523, 404: 521, 405: 519, 406: 516, 407: 514, 408: 512, 409: 510, 410: 507, 411: 505, 412: 503, 413: 501, 414: 498, 415: 496, 416: 494, 417: 492, 418: 489, 419: 487, 420: 485, 421: 483, 422: 480, 423: 478, 424: 476, 425: 474, 426: 471, 427: 469, 428: 467, 429: 464, 430: 462, 431: 460, 432: 458, 433: 455, 434: 453, 435: 451, 436: 449, 437: 446, 438: 444, 439: 442, 440: 440, 441: 437, 442: 435, 443: 433, 444: 431, 445: 428, 446: 426, 447: 424, 448: 422, 449: 419, 450: 417, 451: 415, 452: 413, 453: 410, 454: 408, 455: 406, 456: 403, 457: 401, 458: 399, 459: 397, 460: 394, 461: 392, 462: 390, 463: 388, 464: 385, 465: 383, 466: 381, 467: 379, 468: 376, 469: 374, 470: 372, 471: 370, 472: 367, 473: 365, 474: 363, 475: 361, 476: 358, 477: 356, 478: 354, 479: 351, 480: 349, 481: 347, 482: 345, 483: 342, 484: 340, 485: 338, 486: 336, 487: 333, 488: 331, 489: 329, 490: 327, 491: 324, 492: 322, 493: 320, 494: 318, 495: 315, 496: 313, 497: 311, 498: 309, 499: 306, 500: 304, 501: 302, 502: 300, 503: 297, 504: 295, 505: 293, 506: 290, 507: 288, 508: 286, 509: 284, 510: 281, 511: 279, 512: 277, 513: 275, 514: 272, 515: 270, 516: 268, 517: 266, 518: 263, 519: 261, 520: 259, 521: 257, 522: 254, 523: 252, 524: 250, 525: 248, 526: 245, 527: 243, 528: 241, 529: 238, 530: 236, 531: 234, 532: 232, 533: 229, 534: 227, 535: 225, 536: 223, 537: 220, 538: 218, 539: 216, 540: 214, 541: 212}\n"
     ]
    }
   ],
   "source": [
    "\n",
    "\n",
    "# Example usage\n",
    "x1, y1, x2, y2 = 318, 716, 541, 212\n",
    "\n"
   ]
  },
  {
   "cell_type": "code",
   "execution_count": 19,
   "metadata": {},
   "outputs": [],
   "source": [
    "name = False\n",
    "\n",
    "if 50 < name:\n",
    "    print('hello')"
   ]
  },
  {
   "cell_type": "code",
   "execution_count": 7,
   "metadata": {},
   "outputs": [
    {
     "data": {
      "text/plain": [
       "686.4162"
      ]
     },
     "execution_count": 7,
     "metadata": {},
     "output_type": "execute_result"
    }
   ],
   "source": [
    "a = 617.6843 \n",
    "b = 755.1481 \n",
    "c = a+((b-a)/2)\n",
    "c"
   ]
  },
  {
   "cell_type": "code",
   "execution_count": 21,
   "metadata": {},
   "outputs": [
    {
     "name": "stdout",
     "output_type": "stream",
     "text": [
      "hello\n"
     ]
    }
   ],
   "source": [
    "if 1:\n",
    "    print(\"hello\")\n"
   ]
  },
  {
   "cell_type": "code",
   "execution_count": 5,
   "metadata": {},
   "outputs": [
    {
     "data": {
      "image/png": "[encoded data removed]",
      "text/plain": [
       "<Figure size 432x288 with 2 Axes>"
      ]
     },
     "metadata": {
      "needs_background": "light"
     },
     "output_type": "display_data"
    }
   ],
   "source": [
    "import numpy as np\n",
    "import cv2\n",
    "import matplotlib.pyplot as plt\n",
    "\n",
    "# Assuming you have counts for each section\n",
    "section_counts = [100, 75, 50, 25]\n",
    "\n",
    "# Normalize the counts\n",
    "normalized_counts = [(count - min(section_counts)) / (max(section_counts) - min(section_counts)) for count in section_counts]\n",
    "\n",
    "# Create a 2D grid to represent sections\n",
    "heatmap = np.zeros((2, 2))\n",
    "\n",
    "# Fill the heatmap with normalized counts\n",
    "for i, count in enumerate(normalized_counts):\n",
    "    row = i // 2\n",
    "    col = i % 2\n",
    "    heatmap[row, col] = count\n",
    "\n",
    "# Create a heatmap plot\n",
    "plt.imshow(heatmap, cmap='hot', interpolation='nearest')\n",
    "plt.colorbar()\n",
    "plt.show()\n"
   ]
  },
  {
   "cell_type": "code",
   "execution_count": 11,
   "metadata": {},
   "outputs": [
    {
     "data": {
      "text/plain": [
       "array([[ 318,  716],\n",
       "       [1228,  717],\n",
       "       [ 858,  201],\n",
       "       [ 541,  212]])"
      ]
     },
     "execution_count": 11,
     "metadata": {},
     "output_type": "execute_result"
    }
   ],
   "source": [
    "import numpy as np\n",
    "arr = [318, 716,  1228, 717,858, 201,541, 212]\n",
    "new_arr  = np.array(arr).reshape(-1,2)\n",
    "new_arr"
   ]
  },
  {
   "cell_type": "code",
   "execution_count": 13,
   "metadata": {},
   "outputs": [
    {
     "data": {
      "text/plain": [
       "datetime.timedelta(seconds=5, microseconds=9321)"
      ]
     },
     "execution_count": 13,
     "metadata": {},
     "output_type": "execute_result"
    }
   ],
   "source": [
    "from datetime import datetime  # Import datetime module\n",
    "import time\n",
    "\n",
    "start_time = datetime.now()\n",
    "time.sleep(5)\n",
    "end_time = datetime.now()  # Call datetime.now() to get the current time\n",
    "r = end_time - start_time\n",
    "r"
   ]
  },
  {
   "cell_type": "code",
   "execution_count": 16,
   "metadata": {},
   "outputs": [
    {
     "data": {
      "text/plain": [
       "{5: True}"
      ]
     },
     "execution_count": 16,
     "metadata": {},
     "output_type": "execute_result"
    }
   ],
   "source": [
    "person_id = 5\n",
    "start_times = {} \n",
    "if person_id not in start_times:\n",
    " start_times[person_id] = True\n",
    "start_times"
   ]
  },
  {
   "cell_type": "code",
   "execution_count": 17,
   "metadata": {},
   "outputs": [
    {
     "name": "stdout",
     "output_type": "stream",
     "text": [
      "false\n"
     ]
    }
   ],
   "source": [
    "person_id = 5\n",
    "if person_id not in start_times:\n",
    "   start_times[person_id] = 1\n",
    "else:\n",
    "   start_times[person_id]=start_times[person_id]+1"
   ]
  },
  {
   "cell_type": "code",
   "execution_count": 4,
   "metadata": {},
   "outputs": [
    {
     "data": {
      "text/plain": [
       "{5}"
      ]
     },
     "execution_count": 4,
     "metadata": {},
     "output_type": "execute_result"
    },
    {
     "ename": "",
     "evalue": "",
     "output_type": "error",
     "traceback": [
      "\u001b[1;31mThe Kernel crashed while executing code in the the current cell or a previous cell. Please review the code in the cell(s) to identify a possible cause of the failure. Click <a href='https://aka.ms/vscodeJupyterKernelCrash'>here</a> for more info. View Jupyter <a href='command:jupyter.viewOutput'>log</a> for further details."
     ]
    }
   ],
   "source": [
    "empty = set()\n",
    "k = 1.0\n",
    "if k  not in empty:\n",
    "    empty.add(5)\n",
    "\n",
    "empty"
   ]
  },
  {
   "cell_type": "code",
   "execution_count": null,
   "metadata": {},
   "outputs": [],
   "source": []
  }
 ],
 "metadata": {
  "kernelspec": {
   "display_name": "Python 3",
   "language": "python",
   "name": "python3"
  },
  "language_info": {
   "codemirror_mode": {
    "name": "ipython",
    "version": 3
   },
   "file_extension": ".py",
   "mimetype": "text/x-python",
   "name": "python",
   "nbconvert_exporter": "python",
   "pygments_lexer": "ipython3",
   "version": "3.10.10"
  }
 },
 "nbformat": 4,
 "nbformat_minor": 2
}
