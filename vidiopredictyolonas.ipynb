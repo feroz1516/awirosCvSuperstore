{
 "cells": [
  {
   "cell_type": "code",
   "execution_count": 1,
   "metadata": {},
   "outputs": [],
   "source": []
  },
  {
   "cell_type": "code",
   "execution_count": 1,
   "metadata": {},
   "outputs": [],
   "source": [
    "dataset_params = {\n",
    "    'data_dir':'/kaggle/input/supermarket',\n",
    "    'train_images_dir':'/kaggle/input/supermarket/train/images',\n",
    "    'train_labels_dir':'/kaggle/input/supermarket/train/labels',\n",
    "    'val_images_dir':'/kaggle/input/supermarket/valid/images',\n",
    "    'val_labels_dir':'/kaggle/input/supermarket/valid/labels',\n",
    "    'classes': ['50 50 Biscuit', 'Biscafe', 'Bounce', 'Bourbon Dark fantasy', 'Bourbon', 'Bourn Vita Biscuit', 'Chocobakes', 'Coffee Joy', 'Creme', 'Dark Fantasy', 'Digestive', 'Elite', 'Ginger', 'Good Day', 'Happy Happy', 'Hide - Seek', 'Jim Jam', 'KrackJack', 'Malkist', 'Marie Gold', 'Marie Light', 'Milk Bikis', 'Milk Short Cake', 'Mom Magic', 'Monaco', 'Nice', 'Nutri Choice', 'Nutri Choice-Crackers-', 'Nutri Choice-Herbs-', 'Nutri Choice-Sugar Free-', 'Oreo', 'Parle G', 'Potazo', 'Sunfeast green', 'Super Millets', 'Supermilk', 'Tninz', 'Treat', 'Unibic', 'Unibic-box', 'all rounder']\n",
    "}"
   ]
  },
  {
   "cell_type": "code",
   "execution_count": null,
   "metadata": {},
   "outputs": [],
   "source": []
  },
  {
   "cell_type": "code",
   "execution_count": 2,
   "metadata": {},
   "outputs": [
    {
     "name": "stderr",
     "output_type": "stream",
     "text": [
      "C:\\Users\\hp\\AppData\\Roaming\\Python\\Python310\\site-packages\\tqdm\\auto.py:22: TqdmWarning: IProgress not found. Please update jupyter and ipywidgets. See https://ipywidgets.readthedocs.io/en/stable/user_install.html\n",
      "  from .autonotebook import tqdm as notebook_tqdm\n"
     ]
    },
    {
     "name": "stdout",
     "output_type": "stream",
     "text": [
      "The console stream is logged into C:\\Users\\hp\\sg_logs\\console.log\n"
     ]
    },
    {
     "name": "stderr",
     "output_type": "stream",
     "text": [
      "[2023-10-11 12:46:58] INFO - crash_tips_setup.py - Crash tips is enabled. You can set your environment variable to CRASH_HANDLER=FALSE to disable it\n",
      "[2023-10-11 12:47:02] WARNING - __init__.py - Failed to import pytorch_quantization\n",
      "[2023-10-11 12:47:04] WARNING - redirects.py - NOTE: Redirects are currently not supported in Windows or MacOs.\n",
      "C:\\Users\\hp\\AppData\\Roaming\\Python\\Python310\\site-packages\\_distutils_hack\\__init__.py:33: UserWarning: Setuptools is replacing distutils.\n",
      "  warnings.warn(\"Setuptools is replacing distutils.\")\n",
      "[2023-10-11 12:47:12] WARNING - calibrator.py - Failed to import pytorch_quantization\n",
      "[2023-10-11 12:47:12] WARNING - export.py - Failed to import pytorch_quantization\n",
      "[2023-10-11 12:47:12] WARNING - selective_quantization_utils.py - Failed to import pytorch_quantization\n",
      "[2023-10-11 12:47:12] WARNING - env_sanity_check.py - \u001b[31mFailed to verify operating system: Deci officially supports only Linux kernels. Some features may not work as expected.\u001b[0m\n",
      "[2023-10-11 12:47:16] INFO - checkpoint_utils.py - Successfully loaded model weights from ckpt_best.pth EMA checkpoint.\n"
     ]
    }
   ],
   "source": [
    "from super_gradients.training import models\n",
    "best_model = models.get('yolo_nas_l',\n",
    "                        num_classes=len(dataset_params['classes']),\n",
    "                        checkpoint_path=\"ckpt_best.pth\")"
   ]
  },
  {
   "cell_type": "code",
   "execution_count": 4,
   "metadata": {},
   "outputs": [
    {
     "name": "stderr",
     "output_type": "stream",
     "text": [
      "Predicting Video:   0%|          | 0/1130 [00:00<?, ?it/s]C:\\Users\\hp\\AppData\\Roaming\\Python\\Python310\\site-packages\\torch\\amp\\autocast_mode.py:202: UserWarning: User provided device_type of 'cuda', but CUDA is not available. Disabling\n",
      "  warnings.warn('User provided device_type of \\'cuda\\', but CUDA is not available. Disabling')\n",
      "[2023-10-11 12:48:50] INFO - pipelines.py - Fusing some of the model's layers. If this takes too much memory, you can deactivate it by setting `fuse_model=False`\n",
      "Predicting Video:  96%|█████████▋| 1089/1130 [12:41<00:26,  1.57it/s]"
     ]
    },
    {
     "name": "stderr",
     "output_type": "stream",
     "text": [
      "Predicting Video: 100%|██████████| 1130/1130 [12:47<00:00,  1.47it/s]\n"
     ]
    }
   ],
   "source": [
    "best = best_model.predict(r\"D:\\Supermarket-shelf-dataset\\VID_20231004_205315.mp4\",conf=0.35,iou=0.1)"
   ]
  },
  {
   "cell_type": "code",
   "execution_count": 5,
   "metadata": {},
   "outputs": [
    {
     "name": "stderr",
     "output_type": "stream",
     "text": [
      "[2023-10-11 13:24:51] INFO - video.py - Output path \"sample_video2\" does not have a video extension, and therefore will be saved as sample_video2.mp4\n"
     ]
    }
   ],
   "source": [
    "best.save(output_path='sample_video2')"
   ]
  },
  {
   "cell_type": "code",
   "execution_count": 25,
   "metadata": {},
   "outputs": [
    {
     "data": {
      "text/plain": [
       "[[1, 2, 3, 4], [1, 2, 3, 4], [1, 2, 3, 4], [1, 2, 3, 4]]"
      ]
     },
     "execution_count": 25,
     "metadata": {},
     "output_type": "execute_result"
    }
   ],
   "source": [
    "predictions = []\n",
    "\n",
    "l1 = [[1,2,3,4],[1,2,3,4]]\n",
    "l2 = [[1,2,3,4],[1,2,3,4]]\n",
    "[predictions.append(i) for i in l1]\n",
    "[predictions.append(k) for k in l2]\n",
    "\n",
    "predictions"
   ]
  },
  {
   "cell_type": "code",
   "execution_count": 1,
   "metadata": {},
   "outputs": [
    {
     "name": "stdout",
     "output_type": "stream",
     "text": [
      "Marie Gold\n"
     ]
    },
    {
     "ename": "",
     "evalue": "",
     "output_type": "error",
     "traceback": [
      "\u001b[1;31mThe Kernel crashed while executing code in the the current cell or a previous cell. Please review the code in the cell(s) to identify a possible cause of the failure. Click <a href='https://aka.ms/vscodeJupyterKernelCrash'>here</a> for more info. View Jupyter <a href='command:jupyter.viewOutput'>log</a> for further details."
     ]
    }
   ],
   "source": [
    "product_classes = ['50 50 Biscuit', 'Biscafe', 'Bounce', 'Bourbon Dark fantasy', 'Bourbon', 'Bourn Vita Biscuit', 'Chocobakes', 'Coffee Joy', 'Creme', 'Dark Fantasy', 'Digestive', 'Elite', 'Ginger', 'Good Day', 'Happy Happy', 'Hide - Seek', 'Jim Jam', 'KrackJack', 'Malkist', 'Marie Gold', 'Marie Light', 'Milk Bikis', 'Milk Short Cake', 'Mom Magic', 'Monaco', 'Nice', 'Nutri Choice', 'Nutri Choice-Crackers-', 'Nutri Choice-Herbs-', 'Nutri Choice-Sugar Free-', 'Oreo', 'Parle G', 'Potazo', 'Sunfeast green', 'Super Millets', 'Supermilk', 'Tninz', 'Treat', 'Unibic', 'Unibic-box', 'allrounder']\n",
    "print(product_classes[19])"
   ]
  },
  {
   "cell_type": "code",
   "execution_count": 3,
   "metadata": {},
   "outputs": [
    {
     "data": {
      "text/plain": [
       "[0, 0, 0, 0]"
      ]
     },
     "execution_count": 3,
     "metadata": {},
     "output_type": "execute_result"
    }
   ],
   "source": [
    "count1, count2, count3, count4 = 0,0,0,0\n",
    "arr = [count1, count2, count3, count4]\n",
    "arr"
   ]
  },
  {
   "cell_type": "code",
   "execution_count": 5,
   "metadata": {},
   "outputs": [
    {
     "data": {
      "text/plain": [
       "3"
      ]
     },
     "execution_count": 5,
     "metadata": {},
     "output_type": "execute_result"
    }
   ],
   "source": [
    "test = set([1,2,3])\n",
    "len(test)"
   ]
  },
  {
   "cell_type": "code",
   "execution_count": null,
   "metadata": {},
   "outputs": [],
   "source": []
  }
 ],
 "metadata": {
  "kernelspec": {
   "display_name": "Python 3",
   "language": "python",
   "name": "python3"
  },
  "language_info": {
   "codemirror_mode": {
    "name": "ipython",
    "version": 3
   },
   "file_extension": ".py",
   "mimetype": "text/x-python",
   "name": "python",
   "nbconvert_exporter": "python",
   "pygments_lexer": "ipython3",
   "version": "3.10.10"
  }
 },
 "nbformat": 4,
 "nbformat_minor": 2
}
